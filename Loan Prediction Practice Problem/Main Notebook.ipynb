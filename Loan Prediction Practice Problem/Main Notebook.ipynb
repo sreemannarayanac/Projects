{
 "cells": [
  {
   "cell_type": "markdown",
   "metadata": {},
   "source": [
    "# Missing Value and Outlier Treatment"
   ]
  },
  {
   "cell_type": "code",
   "execution_count": 1,
   "metadata": {},
   "outputs": [],
   "source": [
    "import pandas as pd\n",
    "import numpy as np\n",
    "import matplotlib.pyplot as plt\n",
    "import seaborn as sns\n",
    "import warnings\n",
    "%matplotlib inline"
   ]
  },
  {
   "cell_type": "code",
   "execution_count": 2,
   "metadata": {},
   "outputs": [],
   "source": [
    "warnings.filterwarnings(\"ignore\")"
   ]
  },
  {
   "cell_type": "code",
   "execution_count": 3,
   "metadata": {},
   "outputs": [],
   "source": [
    "train_df = pd.read_csv(\"./train.csv\")\n",
    "test_df = pd.read_csv(\"./test.csv\")"
   ]
  },
  {
   "cell_type": "code",
   "execution_count": 4,
   "metadata": {},
   "outputs": [],
   "source": [
    "train_cpy = train_df.copy()\n",
    "test_cpy = test_df.copy()"
   ]
  },
  {
   "cell_type": "markdown",
   "metadata": {},
   "source": [
    "## Missing value imputation"
   ]
  },
  {
   "cell_type": "code",
   "execution_count": 5,
   "metadata": {},
   "outputs": [
    {
     "data": {
      "text/plain": [
       "Loan_ID               0\n",
       "Gender               13\n",
       "Married               3\n",
       "Dependents           15\n",
       "Education             0\n",
       "Self_Employed        32\n",
       "ApplicantIncome       0\n",
       "CoapplicantIncome     0\n",
       "LoanAmount           22\n",
       "Loan_Amount_Term     14\n",
       "Credit_History       50\n",
       "Property_Area         0\n",
       "Loan_Status           0\n",
       "dtype: int64"
      ]
     },
     "execution_count": 5,
     "metadata": {},
     "output_type": "execute_result"
    }
   ],
   "source": [
    "train_df.isnull().sum()"
   ]
  },
  {
   "cell_type": "markdown",
   "metadata": {},
   "source": [
    "**We can consider these methods to fill the missing values:**\n",
    "\n",
    "For numerical variables: imputation using mean or median  \n",
    "For categorical variables: imputation using mode"
   ]
  },
  {
   "cell_type": "code",
   "execution_count": 6,
   "metadata": {},
   "outputs": [],
   "source": [
    "train_df['Gender'].fillna(train_df['Gender'].mode()[0], inplace=True) \n",
    "train_df['Married'].fillna(train_df['Married'].mode()[0], inplace=True) \n",
    "train_df['Dependents'].fillna(train_df['Dependents'].mode()[0], inplace=True) \n",
    "train_df['Self_Employed'].fillna(train_df['Self_Employed'].mode()[0], inplace=True)\n",
    "\n",
    "test_df['Gender'].fillna(test_df['Gender'].mode()[0], inplace=True) \n",
    "test_df['Married'].fillna(test_df['Married'].mode()[0], inplace=True) \n",
    "test_df['Dependents'].fillna(test_df['Dependents'].mode()[0], inplace=True) \n",
    "test_df['Self_Employed'].fillna(test_df['Self_Employed'].mode()[0], inplace=True)"
   ]
  },
  {
   "cell_type": "code",
   "execution_count": 7,
   "metadata": {},
   "outputs": [],
   "source": [
    "train_df.fillna(train_df[\"Credit_History\"].mode()[0], inplace = True)\n",
    "test_df.fillna(test_df[\"Credit_History\"].mode()[0], inplace = True)"
   ]
  },
  {
   "cell_type": "code",
   "execution_count": 8,
   "metadata": {},
   "outputs": [
    {
     "data": {
      "text/plain": [
       "Loan_Amount_Term\n",
       "360.0    512\n",
       "180.0     44\n",
       "480.0     15\n",
       "1.0       14\n",
       "300.0     13\n",
       "240.0      4\n",
       "84.0       4\n",
       "120.0      3\n",
       "60.0       2\n",
       "36.0       2\n",
       "12.0       1\n",
       "Name: count, dtype: int64"
      ]
     },
     "execution_count": 8,
     "metadata": {},
     "output_type": "execute_result"
    }
   ],
   "source": [
    "train_df[\"Loan_Amount_Term\"].value_counts()"
   ]
  },
  {
   "cell_type": "code",
   "execution_count": 9,
   "metadata": {},
   "outputs": [],
   "source": [
    "train_df[\"Loan_Amount_Term\"].fillna(train_df[\"Loan_Amount_Term\"].mode()[0], inplace=True)\n",
    "test_df[\"Loan_Amount_Term\"].fillna(test_df[\"Loan_Amount_Term\"].mode()[0], inplace=True)"
   ]
  },
  {
   "cell_type": "markdown",
   "metadata": {},
   "source": [
    "Now treating missing values of continuous variables"
   ]
  },
  {
   "cell_type": "code",
   "execution_count": 10,
   "metadata": {},
   "outputs": [],
   "source": [
    "train_df[\"LoanAmount\"].fillna(train_df[\"LoanAmount\"].median(), inplace=True)\n",
    "test_df[\"LoanAmount\"].fillna(test_df[\"LoanAmount\"].median(), inplace=True)"
   ]
  },
  {
   "cell_type": "markdown",
   "metadata": {},
   "source": [
    "**Check the sum of null values now**"
   ]
  },
  {
   "cell_type": "code",
   "execution_count": 11,
   "metadata": {},
   "outputs": [
    {
     "data": {
      "text/plain": [
       "Loan_ID              0\n",
       "Gender               0\n",
       "Married              0\n",
       "Dependents           0\n",
       "Education            0\n",
       "Self_Employed        0\n",
       "ApplicantIncome      0\n",
       "CoapplicantIncome    0\n",
       "LoanAmount           0\n",
       "Loan_Amount_Term     0\n",
       "Credit_History       0\n",
       "Property_Area        0\n",
       "Loan_Status          0\n",
       "dtype: int64"
      ]
     },
     "execution_count": 11,
     "metadata": {},
     "output_type": "execute_result"
    }
   ],
   "source": [
    "train_df.isnull().sum()"
   ]
  },
  {
   "cell_type": "code",
   "execution_count": 12,
   "metadata": {},
   "outputs": [
    {
     "data": {
      "text/plain": [
       "Loan_ID              0\n",
       "Gender               0\n",
       "Married              0\n",
       "Dependents           0\n",
       "Education            0\n",
       "Self_Employed        0\n",
       "ApplicantIncome      0\n",
       "CoapplicantIncome    0\n",
       "LoanAmount           0\n",
       "Loan_Amount_Term     0\n",
       "Credit_History       0\n",
       "Property_Area        0\n",
       "dtype: int64"
      ]
     },
     "execution_count": 12,
     "metadata": {},
     "output_type": "execute_result"
    }
   ],
   "source": [
    "test_df.isnull().sum()"
   ]
  },
  {
   "cell_type": "markdown",
   "metadata": {},
   "source": [
    "## Outlier Treatment"
   ]
  },
  {
   "cell_type": "code",
   "execution_count": 13,
   "metadata": {},
   "outputs": [
    {
     "data": {
      "image/png": "[encoded data removed]",
      "text/plain": [
       "<Figure size 1500x500 with 2 Axes>"
      ]
     },
     "metadata": {},
     "output_type": "display_data"
    }
   ],
   "source": [
    "# Visualizing \n",
    "\n",
    "plt.figure(figsize=(15, 5))\n",
    "\n",
    "plt.subplot(121)\n",
    "train_df[\"LoanAmount\"].plot(kind=\"box\");\n",
    "\n",
    "plt.subplot(122)\n",
    "train_df[\"LoanAmount\"].hist(bins=20);\n",
    "plt.xlabel(\"Loan Amount\")\n",
    "\n",
    "plt.show();"
   ]
  },
  {
   "cell_type": "markdown",
   "metadata": {},
   "source": [
    "**Treating Outliers using log transformation**"
   ]
  },
  {
   "cell_type": "code",
   "execution_count": 14,
   "metadata": {},
   "outputs": [
    {
     "data": {
      "image/png": "[encoded data removed]",
      "text/plain": [
       "<Figure size 640x480 with 1 Axes>"
      ]
     },
     "metadata": {},
     "output_type": "display_data"
    }
   ],
   "source": [
    "train_df[\"LoanAmount_log\"] = np.log(train_df[\"LoanAmount\"])\n",
    "train_df[\"LoanAmount_log\"].hist(bins=20);\n",
    "\n",
    "# Treating outliers of test data set\n",
    "test_df[\"LoanAmount_log\"] = np.log(test_df[\"LoanAmount\"])"
   ]
  },
  {
   "cell_type": "markdown",
   "metadata": {},
   "source": [
    "# Training Model 1"
   ]
  },
  {
   "cell_type": "code",
   "execution_count": 15,
   "metadata": {},
   "outputs": [],
   "source": [
    "train_df.drop(\"Loan_ID\", axis=1, inplace=True)\n",
    "test_df.drop(\"Loan_ID\", axis=1, inplace=True)"
   ]
  },
  {
   "cell_type": "markdown",
   "metadata": {},
   "source": [
    "**Storing target variable (feature) and dropping it as scikit learn takes target variable as a separate dataset**"
   ]
  },
  {
   "cell_type": "code",
   "execution_count": 16,
   "metadata": {},
   "outputs": [],
   "source": [
    "y = train_df.Loan_Status\n",
    "X = train_df.drop(\"Loan_Status\", axis=1)"
   ]
  },
  {
   "cell_type": "markdown",
   "metadata": {},
   "source": [
    "## Encoding Data"
   ]
  },
  {
   "cell_type": "code",
   "execution_count": 17,
   "metadata": {},
   "outputs": [],
   "source": [
    "X = pd.get_dummies(X)\n",
    "train_df = pd.get_dummies(train_df)\n",
    "test_df = pd.get_dummies(test_df)"
   ]
  },
  {
   "cell_type": "markdown",
   "metadata": {},
   "source": [
    "## Splitting data (Test Train Split)"
   ]
  },
  {
   "cell_type": "code",
   "execution_count": 18,
   "metadata": {},
   "outputs": [],
   "source": [
    "from sklearn.model_selection import train_test_split\n",
    "\n",
    "x_train, x_cv, y_train, y_cv = train_test_split(X, y, test_size = 0.3)"
   ]
  },
  {
   "cell_type": "markdown",
   "metadata": {},
   "source": [
    "## Logistic Regression"
   ]
  },
  {
   "cell_type": "code",
   "execution_count": 19,
   "metadata": {},
   "outputs": [
    {
     "name": "stderr",
     "output_type": "stream",
     "text": [
      "2024/07/13 19:32:32 INFO mlflow.system_metrics.system_metrics_monitor: Started monitoring system metrics.\n",
      "2024/07/13 19:32:33 INFO mlflow.tracking.fluent: Autologging successfully enabled for sklearn.\n",
      "2024/07/13 19:32:40 INFO mlflow.system_metrics.system_metrics_monitor: Stopping system metrics monitoring...\n",
      "2024/07/13 19:32:40 INFO mlflow.system_metrics.system_metrics_monitor: Successfully terminated system metrics monitoring!\n"
     ]
    }
   ],
   "source": [
    "from sklearn.linear_model import LogisticRegression\n",
    "from sklearn.metrics import accuracy_score\n",
    "\n",
    "import mlflow\n",
    "from mlflow.models import infer_signature\n",
    "\n",
    "with mlflow.start_run(run_name=\"Logistic Regression\", log_system_metrics=True):\n",
    "    model = LogisticRegression()\n",
    "    model.fit(x_train, y_train)\n",
    "\n",
    "    mlflow.autolog(log_datasets=True, log_models=True)\n",
    "\n",
    "    # Doubt\n",
    "    LogisticRegression(n_jobs=1, random_state=1)\n",
    "\n",
    "    signature = infer_signature(x_train, model.predict(x_train))\n",
    "    mlflow.sklearn.log_model(model, \"model\", signature=signature)"
   ]
  },
  {
   "cell_type": "code",
   "execution_count": 20,
   "metadata": {},
   "outputs": [],
   "source": [
    "pred_test = model.predict(test_df)"
   ]
  },
  {
   "cell_type": "code",
   "execution_count": 21,
   "metadata": {},
   "outputs": [],
   "source": [
    "submission = pd.read_csv(\"./sample_submission.csv\")"
   ]
  },
  {
   "cell_type": "code",
   "execution_count": 22,
   "metadata": {},
   "outputs": [],
   "source": [
    "submission[\"Loan_Status\"] = pred_test\n",
    "submission[\"Loan_id\"] = test_cpy[\"Loan_ID\"]"
   ]
  },
  {
   "cell_type": "code",
   "execution_count": 23,
   "metadata": {},
   "outputs": [],
   "source": [
    "submission.Loan_Status.replace(0, 'N', inplace=True)\n",
    "submission.Loan_Status.replace(1, 'Y', inplace=True)"
   ]
  },
  {
   "cell_type": "code",
   "execution_count": 24,
   "metadata": {},
   "outputs": [],
   "source": [
    "pd.DataFrame(submission, columns = ['Loan_ID', 'Loan_Status']).to_csv('logistic.csv')"
   ]
  },
  {
   "cell_type": "markdown",
   "metadata": {},
   "source": [
    "# Logistic Regression with Stratified K Folds Cross Validation"
   ]
  },
  {
   "cell_type": "code",
   "execution_count": 25,
   "metadata": {},
   "outputs": [
    {
     "name": "stderr",
     "output_type": "stream",
     "text": [
      "2024/07/13 19:32:40 INFO mlflow.system_metrics.system_metrics_monitor: Started monitoring system metrics.\n",
      "2024/07/13 19:32:40 INFO mlflow.tracking.fluent: Autologging successfully enabled for sklearn.\n"
     ]
    },
    {
     "name": "stdout",
     "output_type": "stream",
     "text": [
      "1 of kfold 5 accuracy_score  0.7967479674796748\n",
      "2 of kfold 5 accuracy_score  0.7886178861788617\n",
      "3 of kfold 5 accuracy_score  0.7804878048780488\n",
      "4 of kfold 5 accuracy_score  0.7723577235772358\n",
      "5 of kfold 5 "
     ]
    },
    {
     "name": "stderr",
     "output_type": "stream",
     "text": [
      "2024/07/13 19:33:30 INFO mlflow.system_metrics.system_metrics_monitor: Stopping system metrics monitoring...\n"
     ]
    },
    {
     "name": "stdout",
     "output_type": "stream",
     "text": [
      "accuracy_score  0.7622950819672131\n"
     ]
    },
    {
     "name": "stderr",
     "output_type": "stream",
     "text": [
      "2024/07/13 19:33:30 INFO mlflow.system_metrics.system_metrics_monitor: Successfully terminated system metrics monitoring!\n"
     ]
    }
   ],
   "source": [
    "from sklearn.model_selection import StratifiedKFold\n",
    "\n",
    "with mlflow.start_run(run_name=\"Logistic Regression Stratified K-Folds\", log_system_metrics=True):\n",
    "    mlflow.autolog(log_datasets=True, log_models=True)\n",
    "    i=1\n",
    "    kf = StratifiedKFold(n_splits=5, random_state=1, shuffle=True)\n",
    "    for train_index, test_index in kf.split(X, y):\n",
    "        print(f\"{i} of kfold {kf.n_splits}\", end=\" \")\n",
    "        xtr, xvl = X.iloc[train_index], X.iloc[test_index]\n",
    "        ytr, yvl = y.iloc[train_index], y.iloc[test_index]\n",
    "        model = LogisticRegression(random_state=1)\n",
    "        model.fit(xtr, ytr)\n",
    "        \n",
    "        # Mlflow logging\n",
    "        signature = infer_signature(xtr, model.predict(xtr))\n",
    "        mlflow.sklearn.log_model(model, f\"Logistic_Regression_model_{i}\", signature=signature)\n",
    "        \n",
    "        pred_test = model.predict(xvl)\n",
    "        score = accuracy_score(yvl, pred_test)\n",
    "        print(\"accuracy_score \", score)\n",
    "        i+=1\n",
    "        pred_test = model.predict(test_df)\n",
    "        pred = model.predict_proba(xvl)[:,1]"
   ]
  },
  {
   "cell_type": "markdown",
   "metadata": {},
   "source": [
    "## ROC Curve"
   ]
  },
  {
   "cell_type": "code",
   "execution_count": 26,
   "metadata": {},
   "outputs": [],
   "source": [
    "yvl.replace('N', 0, inplace=True)\n",
    "yvl.replace('Y', 1, inplace=True)"
   ]
  },
  {
   "cell_type": "code",
   "execution_count": 27,
   "metadata": {},
   "outputs": [
    {
     "data": {
      "image/png": "[encoded data removed]",
      "text/plain": [
       "<Figure size 1200x800 with 1 Axes>"
      ]
     },
     "metadata": {},
     "output_type": "display_data"
    }
   ],
   "source": [
    "from sklearn import metrics \n",
    "fpr, tpr, _ = metrics.roc_curve(yvl, pred) \n",
    "auc = metrics.roc_auc_score(yvl, pred) \n",
    "plt.figure(figsize=(12,8)) \n",
    "plt.plot(fpr,tpr,label=\"validation, auc=\"+str(auc)) \n",
    "plt.xlabel('False Positive Rate') \n",
    "plt.ylabel('True Positive Rate') \n",
    "plt.legend(loc=4) \n",
    "plt.show()"
   ]
  },
  {
   "cell_type": "markdown",
   "metadata": {},
   "source": [
    "# Feature Engineering"
   ]
  },
  {
   "cell_type": "code",
   "execution_count": 28,
   "metadata": {},
   "outputs": [],
   "source": [
    "train_df['Total_Income'] = train_df['ApplicantIncome']+train_df['CoapplicantIncome']\n",
    "test_df['Total_Income'] = test_df['ApplicantIncome']+test_df['CoapplicantIncome']"
   ]
  },
  {
   "cell_type": "code",
   "execution_count": 29,
   "metadata": {},
   "outputs": [
    {
     "data": {
      "image/png": "[encoded data removed]",
      "text/plain": [
       "<Figure size 640x480 with 1 Axes>"
      ]
     },
     "metadata": {},
     "output_type": "display_data"
    }
   ],
   "source": [
    "sns.distplot(train_df['Total_Income']);"
   ]
  },
  {
   "cell_type": "code",
   "execution_count": 30,
   "metadata": {},
   "outputs": [
    {
     "data": {
      "image/png": "[encoded data removed]",
      "text/plain": [
       "<Figure size 640x480 with 1 Axes>"
      ]
     },
     "metadata": {},
     "output_type": "display_data"
    }
   ],
   "source": [
    "train_df['Total_Income_log'] = np.log(train_df['Total_Income'])\n",
    "sns.distplot(train_df['Total_Income_log']);\n",
    "test_df['Total_Income_log'] = np.log(test_df['Total_Income'])"
   ]
  },
  {
   "cell_type": "code",
   "execution_count": 31,
   "metadata": {},
   "outputs": [],
   "source": [
    "train_df['EMI']=train_df['LoanAmount']/train_df['Loan_Amount_Term'] \n",
    "test_df['EMI']=test_df['LoanAmount']/test_df['Loan_Amount_Term']"
   ]
  },
  {
   "cell_type": "code",
   "execution_count": 32,
   "metadata": {},
   "outputs": [
    {
     "data": {
      "image/png": "[encoded data removed]",
      "text/plain": [
       "<Figure size 640x480 with 1 Axes>"
      ]
     },
     "metadata": {},
     "output_type": "display_data"
    }
   ],
   "source": [
    "train_df['Balance Income']=train_df['Total_Income']-(train_df['EMI']*1000) # Multiply with 1000 to make the units equal \n",
    "test_df['Balance Income']=test_df['Total_Income']-(test_df['EMI']*1000)\n",
    "sns.distplot(train_df['Balance Income']);"
   ]
  },
  {
   "cell_type": "code",
   "execution_count": 33,
   "metadata": {},
   "outputs": [],
   "source": [
    "train_df=train_df.drop(['ApplicantIncome', 'CoapplicantIncome', 'LoanAmount', 'Loan_Amount_Term'], axis=1)\n",
    "test_df=test_df.drop(['ApplicantIncome', 'CoapplicantIncome', 'LoanAmount', 'Loan_Amount_Term'], axis=1)"
   ]
  },
  {
   "cell_type": "code",
   "execution_count": 34,
   "metadata": {},
   "outputs": [
    {
     "data": {
      "text/plain": [
       "Index(['Credit_History', 'LoanAmount_log', 'Gender_Female', 'Gender_Male',\n",
       "       'Married_No', 'Married_Yes', 'Dependents_0', 'Dependents_1',\n",
       "       'Dependents_2', 'Dependents_3+', 'Education_Graduate',\n",
       "       'Education_Not Graduate', 'Self_Employed_No', 'Self_Employed_Yes',\n",
       "       'Property_Area_Rural', 'Property_Area_Semiurban', 'Property_Area_Urban',\n",
       "       'Loan_Status_N', 'Loan_Status_Y', 'Total_Income', 'Total_Income_log',\n",
       "       'EMI', 'Balance Income'],\n",
       "      dtype='object')"
      ]
     },
     "execution_count": 34,
     "metadata": {},
     "output_type": "execute_result"
    }
   ],
   "source": [
    "train_df.columns"
   ]
  },
  {
   "cell_type": "code",
   "execution_count": 35,
   "metadata": {},
   "outputs": [
    {
     "data": {
      "text/plain": [
       "0      False\n",
       "1       True\n",
       "2      False\n",
       "3      False\n",
       "4      False\n",
       "       ...  \n",
       "609    False\n",
       "610    False\n",
       "611    False\n",
       "612    False\n",
       "613     True\n",
       "Name: Loan_Status_N, Length: 614, dtype: bool"
      ]
     },
     "execution_count": 35,
     "metadata": {},
     "output_type": "execute_result"
    }
   ],
   "source": [
    "train_df.Loan_Status_N"
   ]
  },
  {
   "cell_type": "code",
   "execution_count": 36,
   "metadata": {},
   "outputs": [
    {
     "data": {
      "text/html": [
       "<div>\n",
       "<style scoped>\n",
       "    .dataframe tbody tr th:only-of-type {\n",
       "        vertical-align: middle;\n",
       "    }\n",
       "\n",
       "    .dataframe tbody tr th {\n",
       "        vertical-align: top;\n",
       "    }\n",
       "\n",
       "    .dataframe thead th {\n",
       "        text-align: right;\n",
       "    }\n",
       "</style>\n",
       "<table border=\"1\" class=\"dataframe\">\n",
       "  <thead>\n",
       "    <tr style=\"text-align: right;\">\n",
       "      <th></th>\n",
       "      <th>Credit_History</th>\n",
       "      <th>LoanAmount_log</th>\n",
       "      <th>Gender_Female</th>\n",
       "      <th>Gender_Male</th>\n",
       "      <th>Married_No</th>\n",
       "      <th>Married_Yes</th>\n",
       "      <th>Dependents_0</th>\n",
       "      <th>Dependents_1</th>\n",
       "      <th>Dependents_2</th>\n",
       "      <th>Dependents_3+</th>\n",
       "      <th>...</th>\n",
       "      <th>Education_Not Graduate</th>\n",
       "      <th>Self_Employed_No</th>\n",
       "      <th>Self_Employed_Yes</th>\n",
       "      <th>Property_Area_Rural</th>\n",
       "      <th>Property_Area_Semiurban</th>\n",
       "      <th>Property_Area_Urban</th>\n",
       "      <th>Total_Income</th>\n",
       "      <th>Total_Income_log</th>\n",
       "      <th>EMI</th>\n",
       "      <th>Balance Income</th>\n",
       "    </tr>\n",
       "  </thead>\n",
       "  <tbody>\n",
       "    <tr>\n",
       "      <th>0</th>\n",
       "      <td>1.0</td>\n",
       "      <td>4.700480</td>\n",
       "      <td>False</td>\n",
       "      <td>True</td>\n",
       "      <td>False</td>\n",
       "      <td>True</td>\n",
       "      <td>True</td>\n",
       "      <td>False</td>\n",
       "      <td>False</td>\n",
       "      <td>False</td>\n",
       "      <td>...</td>\n",
       "      <td>False</td>\n",
       "      <td>True</td>\n",
       "      <td>False</td>\n",
       "      <td>False</td>\n",
       "      <td>False</td>\n",
       "      <td>True</td>\n",
       "      <td>5720</td>\n",
       "      <td>8.651724</td>\n",
       "      <td>0.305556</td>\n",
       "      <td>5414.444444</td>\n",
       "    </tr>\n",
       "    <tr>\n",
       "      <th>1</th>\n",
       "      <td>1.0</td>\n",
       "      <td>4.836282</td>\n",
       "      <td>False</td>\n",
       "      <td>True</td>\n",
       "      <td>False</td>\n",
       "      <td>True</td>\n",
       "      <td>False</td>\n",
       "      <td>True</td>\n",
       "      <td>False</td>\n",
       "      <td>False</td>\n",
       "      <td>...</td>\n",
       "      <td>False</td>\n",
       "      <td>True</td>\n",
       "      <td>False</td>\n",
       "      <td>False</td>\n",
       "      <td>False</td>\n",
       "      <td>True</td>\n",
       "      <td>4576</td>\n",
       "      <td>8.428581</td>\n",
       "      <td>0.350000</td>\n",
       "      <td>4226.000000</td>\n",
       "    </tr>\n",
       "    <tr>\n",
       "      <th>2</th>\n",
       "      <td>1.0</td>\n",
       "      <td>5.337538</td>\n",
       "      <td>False</td>\n",
       "      <td>True</td>\n",
       "      <td>False</td>\n",
       "      <td>True</td>\n",
       "      <td>False</td>\n",
       "      <td>False</td>\n",
       "      <td>True</td>\n",
       "      <td>False</td>\n",
       "      <td>...</td>\n",
       "      <td>False</td>\n",
       "      <td>True</td>\n",
       "      <td>False</td>\n",
       "      <td>False</td>\n",
       "      <td>False</td>\n",
       "      <td>True</td>\n",
       "      <td>6800</td>\n",
       "      <td>8.824678</td>\n",
       "      <td>0.577778</td>\n",
       "      <td>6222.222222</td>\n",
       "    </tr>\n",
       "    <tr>\n",
       "      <th>3</th>\n",
       "      <td>1.0</td>\n",
       "      <td>4.605170</td>\n",
       "      <td>False</td>\n",
       "      <td>True</td>\n",
       "      <td>False</td>\n",
       "      <td>True</td>\n",
       "      <td>False</td>\n",
       "      <td>False</td>\n",
       "      <td>True</td>\n",
       "      <td>False</td>\n",
       "      <td>...</td>\n",
       "      <td>False</td>\n",
       "      <td>True</td>\n",
       "      <td>False</td>\n",
       "      <td>False</td>\n",
       "      <td>False</td>\n",
       "      <td>True</td>\n",
       "      <td>4886</td>\n",
       "      <td>8.494129</td>\n",
       "      <td>0.277778</td>\n",
       "      <td>4608.222222</td>\n",
       "    </tr>\n",
       "    <tr>\n",
       "      <th>4</th>\n",
       "      <td>1.0</td>\n",
       "      <td>4.356709</td>\n",
       "      <td>False</td>\n",
       "      <td>True</td>\n",
       "      <td>True</td>\n",
       "      <td>False</td>\n",
       "      <td>True</td>\n",
       "      <td>False</td>\n",
       "      <td>False</td>\n",
       "      <td>False</td>\n",
       "      <td>...</td>\n",
       "      <td>True</td>\n",
       "      <td>True</td>\n",
       "      <td>False</td>\n",
       "      <td>False</td>\n",
       "      <td>False</td>\n",
       "      <td>True</td>\n",
       "      <td>3276</td>\n",
       "      <td>8.094378</td>\n",
       "      <td>0.216667</td>\n",
       "      <td>3059.333333</td>\n",
       "    </tr>\n",
       "  </tbody>\n",
       "</table>\n",
       "<p>5 rows × 21 columns</p>\n",
       "</div>"
      ],
      "text/plain": [
       "   Credit_History  LoanAmount_log  Gender_Female  Gender_Male  Married_No  \\\n",
       "0             1.0        4.700480          False         True       False   \n",
       "1             1.0        4.836282          False         True       False   \n",
       "2             1.0        5.337538          False         True       False   \n",
       "3             1.0        4.605170          False         True       False   \n",
       "4             1.0        4.356709          False         True        True   \n",
       "\n",
       "   Married_Yes  Dependents_0  Dependents_1  Dependents_2  Dependents_3+  ...  \\\n",
       "0         True          True         False         False          False  ...   \n",
       "1         True         False          True         False          False  ...   \n",
       "2         True         False         False          True          False  ...   \n",
       "3         True         False         False          True          False  ...   \n",
       "4        False          True         False         False          False  ...   \n",
       "\n",
       "   Education_Not Graduate  Self_Employed_No  Self_Employed_Yes  \\\n",
       "0                   False              True              False   \n",
       "1                   False              True              False   \n",
       "2                   False              True              False   \n",
       "3                   False              True              False   \n",
       "4                    True              True              False   \n",
       "\n",
       "   Property_Area_Rural  Property_Area_Semiurban  Property_Area_Urban  \\\n",
       "0                False                    False                 True   \n",
       "1                False                    False                 True   \n",
       "2                False                    False                 True   \n",
       "3                False                    False                 True   \n",
       "4                False                    False                 True   \n",
       "\n",
       "   Total_Income  Total_Income_log       EMI  Balance Income  \n",
       "0          5720          8.651724  0.305556     5414.444444  \n",
       "1          4576          8.428581  0.350000     4226.000000  \n",
       "2          6800          8.824678  0.577778     6222.222222  \n",
       "3          4886          8.494129  0.277778     4608.222222  \n",
       "4          3276          8.094378  0.216667     3059.333333  \n",
       "\n",
       "[5 rows x 21 columns]"
      ]
     },
     "execution_count": 36,
     "metadata": {},
     "output_type": "execute_result"
    }
   ],
   "source": [
    "test_df.head()"
   ]
  },
  {
   "cell_type": "markdown",
   "metadata": {},
   "source": [
    "# Model Building Part II\n",
    "- Logistic Regression\n",
    "- Decision Tree\n",
    "- Random Forest\n",
    "- XGBoost"
   ]
  },
  {
   "cell_type": "markdown",
   "metadata": {},
   "source": [
    "## Logistic Regression"
   ]
  },
  {
   "cell_type": "code",
   "execution_count": 37,
   "metadata": {},
   "outputs": [
    {
     "name": "stderr",
     "output_type": "stream",
     "text": [
      "2024/07/13 19:33:32 INFO mlflow.system_metrics.system_metrics_monitor: Started monitoring system metrics.\n",
      "2024/07/13 19:33:32 INFO mlflow.tracking.fluent: Autologging successfully enabled for sklearn.\n"
     ]
    },
    {
     "name": "stdout",
     "output_type": "stream",
     "text": [
      "1 of kfold 6 0.7961165048543689\n",
      "2 of kfold 6 0.7766990291262136\n",
      "3 of kfold 6 0.6764705882352942\n",
      "4 of kfold 6 0.6764705882352942\n",
      "5 of kfold 6 0.8333333333333334\n",
      "6 of kfold 6 "
     ]
    },
    {
     "name": "stderr",
     "output_type": "stream",
     "text": [
      "2024/07/13 19:34:29 INFO mlflow.system_metrics.system_metrics_monitor: Stopping system metrics monitoring...\n"
     ]
    },
    {
     "name": "stdout",
     "output_type": "stream",
     "text": [
      "0.6862745098039216\n"
     ]
    },
    {
     "name": "stderr",
     "output_type": "stream",
     "text": [
      "2024/07/13 19:34:30 INFO mlflow.system_metrics.system_metrics_monitor: Successfully terminated system metrics monitoring!\n"
     ]
    }
   ],
   "source": [
    "X = train_df.drop(labels=['Loan_Status_N', 'Loan_Status_Y'], axis=1)\n",
    "y = train_df.Loan_Status_Y\n",
    "\n",
    "with mlflow.start_run(run_name=\"Logistic Regression Stratified K-Folds\", log_system_metrics=True):\n",
    "    mlflow.autolog(log_datasets=True, log_models=True)\n",
    "    i=1\n",
    "    kf1 = StratifiedKFold(n_splits=6, shuffle=True, random_state=1)\n",
    "    for train_index, test_index in kf1.split(X, y):\n",
    "        print(f\"{i} of kfold {kf1.n_splits} \", end=\"\")\n",
    "        xtr, xvl = X.iloc[train_index], X.iloc[test_index]\n",
    "        ytr, yvl = y.iloc[train_index], y.iloc[test_index]\n",
    "        model1 = LogisticRegression(random_state=1)\n",
    "        model1.fit(xtr, ytr)\n",
    "        \n",
    "        # Mlflow logging\n",
    "        signature = infer_signature(xtr, model1.predict(xtr))\n",
    "        mlflow.sklearn.log_model(model1, f\"Logistic_Regression_model_after_Feature_Engineering_{i}\", signature=signature)\n",
    "        \n",
    "        pred_test = model1.predict(xvl)\n",
    "        score = accuracy_score(pred_test, yvl)\n",
    "        print(score)\n",
    "        i+=1\n",
    "        pred_test = model1.predict(test_df)\n",
    "        pred = model1.predict_proba(xvl)[:,1]"
   ]
  },
  {
   "cell_type": "code",
   "execution_count": 38,
   "metadata": {},
   "outputs": [],
   "source": [
    "submission['Loan_Status'] = pred_test  # filling Loan_Status with predictions\n",
    "submission['Loan_ID'] = test_cpy['Loan_ID']  # filling Loan_ID with test Loan_ID\n",
    "\n",
    "# replacing 0 and 1 with N and Y\n",
    "submission['Loan_Status'].replace(0, 'N', inplace=True)\n",
    "submission['Loan_Status'].replace(1, 'Y', inplace=True)\n",
    "\n",
    "# Converting submission file to .csv format\n",
    "pd.DataFrame(submission, columns=['Loan_ID', 'Loan_Status']).to_csv('Log2.csv')"
   ]
  },
  {
   "cell_type": "markdown",
   "metadata": {},
   "source": [
    "## Decision Tree"
   ]
  },
  {
   "cell_type": "code",
   "execution_count": 39,
   "metadata": {},
   "outputs": [
    {
     "name": "stderr",
     "output_type": "stream",
     "text": [
      "2024/07/13 19:34:30 INFO mlflow.system_metrics.system_metrics_monitor: Started monitoring system metrics.\n",
      "2024/07/13 19:34:30 INFO mlflow.tracking.fluent: Autologging successfully enabled for sklearn.\n"
     ]
    },
    {
     "name": "stdout",
     "output_type": "stream",
     "text": [
      "1 of kfold 6 0.7184466019417476\n",
      "2 of kfold 6 0.7669902912621359\n",
      "3 of kfold 6 0.7352941176470589\n",
      "4 of kfold 6 0.6568627450980392\n",
      "5 of kfold 6 0.7058823529411765\n",
      "6 of kfold 6 "
     ]
    },
    {
     "name": "stderr",
     "output_type": "stream",
     "text": [
      "2024/07/13 19:35:27 INFO mlflow.system_metrics.system_metrics_monitor: Stopping system metrics monitoring...\n",
      "2024/07/13 19:35:27 INFO mlflow.system_metrics.system_metrics_monitor: Successfully terminated system metrics monitoring!\n"
     ]
    },
    {
     "name": "stdout",
     "output_type": "stream",
     "text": [
      "0.6470588235294118\n"
     ]
    }
   ],
   "source": [
    "from sklearn import tree\n",
    "\n",
    "with mlflow.start_run(run_name=\"Decision Tree Classifier\", log_system_metrics=True):\n",
    "    mlflow.autolog(log_datasets=True, log_models=True)    \n",
    "    i=1\n",
    "    kf1 = StratifiedKFold(n_splits=6, shuffle=True, random_state=1)\n",
    "    for train_index, test_index in kf1.split(X, y):\n",
    "        print(f\"{i} of kfold {kf1.n_splits} \", end=\"\")\n",
    "        xtr, xvl = X.iloc[train_index], X.iloc[test_index]\n",
    "        ytr, yvl = y.iloc[train_index], y.iloc[test_index]\n",
    "        model1 = tree.DecisionTreeClassifier(random_state=1)\n",
    "        model1.fit(xtr, ytr)\n",
    "        \n",
    "        # Mlflow logging\n",
    "        signature = infer_signature(xtr, model1.predict(xtr))\n",
    "        mlflow.sklearn.log_model(model1, f\"Decision_Tree_Classifier_model_after_Feature_Engineering_{i}\", signature=signature)\n",
    "        \n",
    "        pred_test = model1.predict(xvl)\n",
    "        score = accuracy_score(pred_test, yvl)\n",
    "        print(score)\n",
    "        i+=1\n",
    "        pred_test = model1.predict(test_df)\n",
    "        pred = model1.predict_proba(xvl)[:,1]"
   ]
  },
  {
   "cell_type": "code",
   "execution_count": 40,
   "metadata": {},
   "outputs": [],
   "source": [
    "submission['Loan_Status'] = pred_test  # filling Loan_Status with predictions\n",
    "submission['Loan_ID'] = test_cpy['Loan_ID']  # filling Loan_ID with test Loan_ID\n",
    "\n",
    "# Converting submission file to .csv format\n",
    "pd.DataFrame(submission, columns=['Loan_ID', 'Loan_Status']).to_csv('Decision Tree.csv')"
   ]
  },
  {
   "cell_type": "markdown",
   "metadata": {},
   "source": [
    "## Random Forest"
   ]
  },
  {
   "cell_type": "code",
   "execution_count": 41,
   "metadata": {},
   "outputs": [
    {
     "name": "stderr",
     "output_type": "stream",
     "text": [
      "2024/07/13 19:35:27 INFO mlflow.system_metrics.system_metrics_monitor: Started monitoring system metrics.\n",
      "2024/07/13 19:35:28 INFO mlflow.tracking.fluent: Autologging successfully enabled for sklearn.\n"
     ]
    },
    {
     "name": "stdout",
     "output_type": "stream",
     "text": [
      "1 of kfold 6 0.8349514563106796\n",
      "2 of kfold 6 0.8640776699029126\n",
      "3 of kfold 6 0.7941176470588235\n",
      "4 of kfold 6 0.7058823529411765\n",
      "5 of kfold 6 0.803921568627451\n",
      "6 of kfold 6 "
     ]
    },
    {
     "name": "stderr",
     "output_type": "stream",
     "text": [
      "2024/07/13 19:36:29 INFO mlflow.system_metrics.system_metrics_monitor: Stopping system metrics monitoring...\n",
      "2024/07/13 19:36:29 INFO mlflow.system_metrics.system_metrics_monitor: Successfully terminated system metrics monitoring!\n"
     ]
    },
    {
     "name": "stdout",
     "output_type": "stream",
     "text": [
      "0.7450980392156863\n"
     ]
    }
   ],
   "source": [
    "from sklearn.ensemble import RandomForestClassifier\n",
    "\n",
    "with mlflow.start_run(run_name=\"Random Forest Classifier\", log_system_metrics=True):\n",
    "    mlflow.autolog(log_datasets=True, log_models=True)\n",
    "    i=1\n",
    "    kf1 = StratifiedKFold(n_splits=6, shuffle=True, random_state=1)\n",
    "    for train_index, test_index in kf1.split(X, y):\n",
    "        print(f\"{i} of kfold {kf1.n_splits} \", end=\"\")\n",
    "        xtr, xvl = X.iloc[train_index], X.iloc[test_index]\n",
    "        ytr, yvl = y.iloc[train_index], y.iloc[test_index]\n",
    "        model1 = RandomForestClassifier(random_state=1)\n",
    "        model1.fit(xtr, ytr)\n",
    "        \n",
    "        # Mlflow logging\n",
    "        signature = infer_signature(xtr, model1.predict(xtr))\n",
    "        mlflow.sklearn.log_model(model1, f\"Random_Forest_Classifier_model_after_Feature_Engineering_{i}\", signature=signature)\n",
    "        \n",
    "        pred_test = model1.predict(xvl)\n",
    "        score = accuracy_score(pred_test, yvl)\n",
    "        print(score)\n",
    "        i+=1"
   ]
  },
  {
   "cell_type": "markdown",
   "metadata": {},
   "source": [
    "### Grid Search CV"
   ]
  },
  {
   "cell_type": "code",
   "execution_count": 42,
   "metadata": {},
   "outputs": [
    {
     "name": "stderr",
     "output_type": "stream",
     "text": [
      "2024/07/13 19:36:29 INFO mlflow.system_metrics.system_metrics_monitor: Started monitoring system metrics.\n",
      "2024/07/13 19:36:30 INFO mlflow.tracking.fluent: Autologging successfully enabled for sklearn.\n",
      "2024/07/13 19:38:23 INFO mlflow.sklearn.utils: Logging the 5 best runs, 95 runs will be omitted.\n",
      "2024/07/13 19:38:28 INFO mlflow.system_metrics.system_metrics_monitor: Stopping system metrics monitoring...\n",
      "2024/07/13 19:38:28 INFO mlflow.system_metrics.system_metrics_monitor: Successfully terminated system metrics monitoring!\n"
     ]
    }
   ],
   "source": [
    "from sklearn.model_selection import GridSearchCV\n",
    "\n",
    "# Making changes to max_depth of the tree and number of trees (n_estimators) that will be used in Random Forest Classification\n",
    "with mlflow.start_run(run_name=\"Random Forest Classifier with Grid Search\", log_system_metrics=True):\n",
    "    mlflow.autolog(log_datasets=True, log_models=True)\n",
    "\n",
    "    paramGrid = {'max_depth': list(range(1, 20, 2)), 'n_estimators': list(range(1, 200, 20))}\n",
    "\n",
    "    grid_search = GridSearchCV(RandomForestClassifier(random_state=1), paramGrid)\n",
    "\n",
    "    x_train, x_test, y_train, y_test = train_test_split(X, y, test_size=0.3, random_state=1)\n",
    "\n",
    "    grid_search.fit(x_train, y_train)\n",
    "\n",
    "    # Mlflow logging\n",
    "    signature = infer_signature(x_train, grid_search.best_estimator_.predict(x_train))\n",
    "    mlflow.sklearn.log_model(grid_search.best_estimator_, \"Random_Forest_Classifier_model_with_Grid_Search\", signature=signature)\n",
    "\n",
    "    grid_search.best_estimator_"
   ]
  }
 ],
 "metadata": {
  "kernelspec": {
   "display_name": "Python 3 (ipykernel)",
   "language": "python",
   "name": "python3"
  },
  "language_info": {
   "codemirror_mode": {
    "name": "ipython",
    "version": 3
   },
   "file_extension": ".py",
   "mimetype": "text/x-python",
   "name": "python",
   "nbconvert_exporter": "python",
   "pygments_lexer": "ipython3",
   "version": "3.10.14"
  }
 },
 "nbformat": 4,
 "nbformat_minor": 4
}

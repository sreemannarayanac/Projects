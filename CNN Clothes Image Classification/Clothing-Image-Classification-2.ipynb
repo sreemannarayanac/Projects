{
 "cells": [
  {
   "cell_type": "code",
   "execution_count": 2,
   "metadata": {},
   "outputs": [
    {
     "name": "stdout",
     "output_type": "stream",
     "text": [
      "2.14.0\n"
     ]
    }
   ],
   "source": [
    "import numpy as np\n",
    "import matplotlib.pyplot as plt\n",
    "\n",
    "%matplotlib inline\n",
    "\n",
    "import tensorflow as tf\n",
    "from tensorflow import keras\n",
    "\n",
    "print(tf.__version__)\n",
    "\n",
    "from tensorflow.keras.applications.xception import Xception\n",
    "from tensorflow.keras.applications.xception import preprocess_input\n",
    "\n",
    "from tensorflow.keras.preprocessing.image import ImageDataGenerator"
   ]
  },
  {
   "cell_type": "code",
   "execution_count": 2,
   "metadata": {},
   "outputs": [
    {
     "name": "stdout",
     "output_type": "stream",
     "text": [
      "Found 3068 images belonging to 10 classes.\n"
     ]
    }
   ],
   "source": [
    "# Create image generator for train data and also augment the images\n",
    "train_gen = ImageDataGenerator(preprocessing_function=preprocess_input,\n",
    "                               rotation_range=30,\n",
    "                               width_shift_range=10.0,\n",
    "                               height_shift_range=10.0,\n",
    "                               shear_range=10,\n",
    "                               zoom_range=0.1,\n",
    "                               vertical_flip=True)\n",
    "\n",
    "train_ds = train_gen.flow_from_directory(directory='clothing-dataset-small/train', target_size=(150,150), batch_size=32)"
   ]
  },
  {
   "cell_type": "code",
   "execution_count": 3,
   "metadata": {},
   "outputs": [
    {
     "name": "stdout",
     "output_type": "stream",
     "text": [
      "Found 341 images belonging to 10 classes.\n"
     ]
    }
   ],
   "source": [
    "val_gen = ImageDataGenerator(preprocessing_function=preprocess_input)\n",
    "\n",
    "val_ds = val_gen.flow_from_directory('clothing-dataset-small/validation/', target_size=(150, 150), batch_size=32)"
   ]
  },
  {
   "cell_type": "code",
   "execution_count": 4,
   "metadata": {},
   "outputs": [
    {
     "name": "stderr",
     "output_type": "stream",
     "text": [
      "2024-03-10 00:39:47.506817: I tensorflow/compiler/xla/stream_executor/cuda/cuda_gpu_executor.cc:880] could not open file to read NUMA node: /sys/bus/pci/devices/0000:01:00.0/numa_node\n",
      "Your kernel may have been built without NUMA support.\n",
      "2024-03-10 00:39:47.674078: I tensorflow/compiler/xla/stream_executor/cuda/cuda_gpu_executor.cc:880] could not open file to read NUMA node: /sys/bus/pci/devices/0000:01:00.0/numa_node\n",
      "Your kernel may have been built without NUMA support.\n",
      "2024-03-10 00:39:47.674149: I tensorflow/compiler/xla/stream_executor/cuda/cuda_gpu_executor.cc:880] could not open file to read NUMA node: /sys/bus/pci/devices/0000:01:00.0/numa_node\n",
      "Your kernel may have been built without NUMA support.\n",
      "2024-03-10 00:39:47.676351: I tensorflow/compiler/xla/stream_executor/cuda/cuda_gpu_executor.cc:880] could not open file to read NUMA node: /sys/bus/pci/devices/0000:01:00.0/numa_node\n",
      "Your kernel may have been built without NUMA support.\n",
      "2024-03-10 00:39:47.676518: I tensorflow/compiler/xla/stream_executor/cuda/cuda_gpu_executor.cc:880] could not open file to read NUMA node: /sys/bus/pci/devices/0000:01:00.0/numa_node\n",
      "Your kernel may have been built without NUMA support.\n",
      "2024-03-10 00:39:47.676565: I tensorflow/compiler/xla/stream_executor/cuda/cuda_gpu_executor.cc:880] could not open file to read NUMA node: /sys/bus/pci/devices/0000:01:00.0/numa_node\n",
      "Your kernel may have been built without NUMA support.\n",
      "2024-03-10 00:39:47.941610: I tensorflow/compiler/xla/stream_executor/cuda/cuda_gpu_executor.cc:880] could not open file to read NUMA node: /sys/bus/pci/devices/0000:01:00.0/numa_node\n",
      "Your kernel may have been built without NUMA support.\n",
      "2024-03-10 00:39:47.941678: I tensorflow/compiler/xla/stream_executor/cuda/cuda_gpu_executor.cc:880] could not open file to read NUMA node: /sys/bus/pci/devices/0000:01:00.0/numa_node\n",
      "Your kernel may have been built without NUMA support.\n",
      "2024-03-10 00:39:47.941688: I tensorflow/core/common_runtime/gpu/gpu_device.cc:1977] Could not identify NUMA node of platform GPU id 0, defaulting to 0.  Your kernel may not have been built with NUMA support.\n",
      "2024-03-10 00:39:47.941731: I tensorflow/compiler/xla/stream_executor/cuda/cuda_gpu_executor.cc:880] could not open file to read NUMA node: /sys/bus/pci/devices/0000:01:00.0/numa_node\n",
      "Your kernel may have been built without NUMA support.\n",
      "2024-03-10 00:39:47.941781: I tensorflow/core/common_runtime/gpu/gpu_device.cc:1886] Created device /job:localhost/replica:0/task:0/device:GPU:0 with 2242 MB memory:  -> device: 0, name: NVIDIA GeForce GTX 1650, pci bus id: 0000:01:00.0, compute capability: 7.5\n"
     ]
    }
   ],
   "source": [
    "base_model = Xception(weights='imagenet', include_top=False, input_shape=(150, 150, 3))\n",
    "\n",
    "base_model.trainable = False"
   ]
  },
  {
   "cell_type": "code",
   "execution_count": 5,
   "metadata": {},
   "outputs": [],
   "source": [
    "def make_model(learning_rate=0.001, size_inner=100, droprate=0.5):\n",
    "  base_model = Xception(weights='imagenet', include_top=False, input_shape=(150, 150, 3))\n",
    "\n",
    "  base_model.trainable = False\n",
    "\n",
    "  #################################################\n",
    "\n",
    "  inputs = keras.Input(shape=(150, 150, 3))\n",
    "\n",
    "  base = base_model(inputs)\n",
    "\n",
    "  vectors = keras.layers.GlobalAveragePooling2D()(base)\n",
    "\n",
    "  inner = keras.layers.Dense(size_inner, activation='relu')(vectors)\n",
    "\n",
    "  drop = keras.layers.Dropout(droprate)(inner)\n",
    "\n",
    "  outputs = keras.layers.Dense(10)(drop)\n",
    "\n",
    "  model = keras.Model(inputs, outputs)\n",
    "\n",
    "  #################################################\n",
    "\n",
    "  optimizer = keras.optimizers.Adam(learning_rate=learning_rate)\n",
    "\n",
    "  loss = keras.losses.CategoricalCrossentropy(from_logits=True)\n",
    "\n",
    "  model.compile(optimizer=optimizer,\n",
    "                loss=loss,\n",
    "                metrics=['accuracy'])\n",
    "\n",
    "  return model"
   ]
  },
  {
   "cell_type": "code",
   "execution_count": 7,
   "metadata": {},
   "outputs": [
    {
     "name": "stdout",
     "output_type": "stream",
     "text": [
      "Epoch 1/50\n",
      "96/96 [==============================] - 48s 458ms/step - loss: 1.6321 - accuracy: 0.4668 - val_loss: 1.0182 - val_accuracy: 0.6540\n",
      "Epoch 2/50\n",
      "96/96 [==============================] - 43s 445ms/step - loss: 1.2860 - accuracy: 0.5795 - val_loss: 0.8250 - val_accuracy: 0.7419\n",
      "Epoch 3/50\n",
      "96/96 [==============================] - 43s 447ms/step - loss: 1.1548 - accuracy: 0.6014 - val_loss: 0.7975 - val_accuracy: 0.7478\n",
      "Epoch 4/50\n",
      "96/96 [==============================] - 42s 439ms/step - loss: 1.0956 - accuracy: 0.6281 - val_loss: 0.7575 - val_accuracy: 0.7273\n",
      "Epoch 5/50\n",
      "96/96 [==============================] - 43s 444ms/step - loss: 1.0262 - accuracy: 0.6463 - val_loss: 0.7765 - val_accuracy: 0.7302\n",
      "Epoch 6/50\n",
      "96/96 [==============================] - 43s 451ms/step - loss: 0.9780 - accuracy: 0.6604 - val_loss: 0.7122 - val_accuracy: 0.7683\n",
      "Epoch 7/50\n",
      "96/96 [==============================] - 42s 439ms/step - loss: 0.9755 - accuracy: 0.6682 - val_loss: 0.6844 - val_accuracy: 0.7595\n",
      "Epoch 8/50\n",
      "96/96 [==============================] - 44s 460ms/step - loss: 0.9521 - accuracy: 0.6754 - val_loss: 0.6746 - val_accuracy: 0.7713\n",
      "Epoch 9/50\n",
      "96/96 [==============================] - 63s 660ms/step - loss: 0.9207 - accuracy: 0.6783 - val_loss: 0.6715 - val_accuracy: 0.7625\n",
      "Epoch 10/50\n",
      "96/96 [==============================] - 76s 791ms/step - loss: 0.9165 - accuracy: 0.6910 - val_loss: 0.6868 - val_accuracy: 0.7713\n",
      "Epoch 11/50\n",
      "96/96 [==============================] - 74s 771ms/step - loss: 0.8813 - accuracy: 0.6881 - val_loss: 0.6466 - val_accuracy: 0.7859\n",
      "Epoch 12/50\n",
      "96/96 [==============================] - 77s 797ms/step - loss: 0.9061 - accuracy: 0.6825 - val_loss: 0.6457 - val_accuracy: 0.7771\n",
      "Epoch 13/50\n",
      "96/96 [==============================] - 73s 762ms/step - loss: 0.8389 - accuracy: 0.7096 - val_loss: 0.6286 - val_accuracy: 0.7713\n",
      "Epoch 14/50\n",
      "96/96 [==============================] - 78s 813ms/step - loss: 0.8396 - accuracy: 0.7047 - val_loss: 0.6295 - val_accuracy: 0.7830\n",
      "Epoch 15/50\n",
      "96/96 [==============================] - 52s 541ms/step - loss: 0.8206 - accuracy: 0.7187 - val_loss: 0.6199 - val_accuracy: 0.7918\n",
      "Epoch 16/50\n",
      "96/96 [==============================] - 40s 418ms/step - loss: 0.8295 - accuracy: 0.7145 - val_loss: 0.6517 - val_accuracy: 0.7742\n",
      "Epoch 17/50\n",
      "96/96 [==============================] - 42s 434ms/step - loss: 0.7898 - accuracy: 0.7246 - val_loss: 0.6121 - val_accuracy: 0.8006\n",
      "Epoch 18/50\n",
      "96/96 [==============================] - 41s 426ms/step - loss: 0.7817 - accuracy: 0.7278 - val_loss: 0.6192 - val_accuracy: 0.7947\n",
      "Epoch 19/50\n",
      "96/96 [==============================] - 41s 428ms/step - loss: 0.7904 - accuracy: 0.7350 - val_loss: 0.6168 - val_accuracy: 0.8035\n",
      "Epoch 20/50\n",
      "96/96 [==============================] - 40s 419ms/step - loss: 0.7777 - accuracy: 0.7259 - val_loss: 0.6511 - val_accuracy: 0.7742\n",
      "Epoch 21/50\n",
      "96/96 [==============================] - 42s 433ms/step - loss: 0.7651 - accuracy: 0.7350 - val_loss: 0.6258 - val_accuracy: 0.7742\n",
      "Epoch 22/50\n",
      "96/96 [==============================] - 41s 425ms/step - loss: 0.7732 - accuracy: 0.7288 - val_loss: 0.6204 - val_accuracy: 0.7977\n",
      "Epoch 23/50\n",
      "96/96 [==============================] - 40s 419ms/step - loss: 0.7587 - accuracy: 0.7370 - val_loss: 0.6372 - val_accuracy: 0.7830\n",
      "Epoch 24/50\n",
      "96/96 [==============================] - 41s 425ms/step - loss: 0.7561 - accuracy: 0.7337 - val_loss: 0.5964 - val_accuracy: 0.8006\n",
      "Epoch 25/50\n",
      "96/96 [==============================] - 40s 419ms/step - loss: 0.7336 - accuracy: 0.7448 - val_loss: 0.6453 - val_accuracy: 0.7830\n",
      "Epoch 26/50\n",
      "96/96 [==============================] - 40s 411ms/step - loss: 0.7295 - accuracy: 0.7464 - val_loss: 0.6175 - val_accuracy: 0.8006\n",
      "Epoch 27/50\n",
      "96/96 [==============================] - 40s 414ms/step - loss: 0.7020 - accuracy: 0.7523 - val_loss: 0.6173 - val_accuracy: 0.7889\n",
      "Epoch 28/50\n",
      "96/96 [==============================] - 40s 419ms/step - loss: 0.7159 - accuracy: 0.7503 - val_loss: 0.6128 - val_accuracy: 0.7947\n",
      "Epoch 29/50\n",
      "96/96 [==============================] - 40s 420ms/step - loss: 0.6897 - accuracy: 0.7614 - val_loss: 0.6200 - val_accuracy: 0.7918\n",
      "Epoch 30/50\n",
      "96/96 [==============================] - 42s 435ms/step - loss: 0.6858 - accuracy: 0.7653 - val_loss: 0.6153 - val_accuracy: 0.8065\n",
      "Epoch 31/50\n",
      "96/96 [==============================] - 40s 418ms/step - loss: 0.6685 - accuracy: 0.7617 - val_loss: 0.6201 - val_accuracy: 0.7977\n",
      "Epoch 32/50\n",
      "96/96 [==============================] - 40s 416ms/step - loss: 0.6740 - accuracy: 0.7722 - val_loss: 0.6031 - val_accuracy: 0.7859\n",
      "Epoch 33/50\n",
      "96/96 [==============================] - 40s 419ms/step - loss: 0.6958 - accuracy: 0.7542 - val_loss: 0.6353 - val_accuracy: 0.7830\n",
      "Epoch 34/50\n",
      "96/96 [==============================] - 40s 419ms/step - loss: 0.6617 - accuracy: 0.7653 - val_loss: 0.5974 - val_accuracy: 0.8035\n",
      "Epoch 35/50\n",
      "96/96 [==============================] - 40s 419ms/step - loss: 0.6915 - accuracy: 0.7493 - val_loss: 0.6114 - val_accuracy: 0.8035\n",
      "Epoch 36/50\n",
      "96/96 [==============================] - 40s 419ms/step - loss: 0.6917 - accuracy: 0.7608 - val_loss: 0.5864 - val_accuracy: 0.7918\n",
      "Epoch 37/50\n",
      "96/96 [==============================] - 40s 417ms/step - loss: 0.6705 - accuracy: 0.7617 - val_loss: 0.6385 - val_accuracy: 0.7771\n",
      "Epoch 38/50\n",
      "96/96 [==============================] - 40s 412ms/step - loss: 0.6510 - accuracy: 0.7647 - val_loss: 0.6331 - val_accuracy: 0.7889\n",
      "Epoch 39/50\n",
      "96/96 [==============================] - 41s 423ms/step - loss: 0.6791 - accuracy: 0.7516 - val_loss: 0.5960 - val_accuracy: 0.8035\n",
      "Epoch 40/50\n",
      "96/96 [==============================] - 40s 414ms/step - loss: 0.6461 - accuracy: 0.7686 - val_loss: 0.5994 - val_accuracy: 0.7830\n",
      "Epoch 41/50\n",
      "96/96 [==============================] - 40s 417ms/step - loss: 0.6589 - accuracy: 0.7757 - val_loss: 0.5714 - val_accuracy: 0.7947\n",
      "Epoch 42/50\n",
      "96/96 [==============================] - 40s 411ms/step - loss: 0.6513 - accuracy: 0.7764 - val_loss: 0.5846 - val_accuracy: 0.7977\n",
      "Epoch 43/50\n",
      "96/96 [==============================] - 40s 415ms/step - loss: 0.6247 - accuracy: 0.7797 - val_loss: 0.6054 - val_accuracy: 0.7977\n",
      "Epoch 44/50\n",
      "96/96 [==============================] - 40s 417ms/step - loss: 0.6264 - accuracy: 0.7793 - val_loss: 0.5997 - val_accuracy: 0.7889\n",
      "Epoch 45/50\n",
      "96/96 [==============================] - 40s 421ms/step - loss: 0.6292 - accuracy: 0.7829 - val_loss: 0.6116 - val_accuracy: 0.7947\n",
      "Epoch 46/50\n",
      "96/96 [==============================] - 41s 427ms/step - loss: 0.6190 - accuracy: 0.7800 - val_loss: 0.5794 - val_accuracy: 0.7977\n",
      "Epoch 47/50\n",
      "96/96 [==============================] - 41s 430ms/step - loss: 0.6251 - accuracy: 0.7855 - val_loss: 0.6334 - val_accuracy: 0.8006\n",
      "Epoch 48/50\n",
      "96/96 [==============================] - 41s 429ms/step - loss: 0.6073 - accuracy: 0.7849 - val_loss: 0.6196 - val_accuracy: 0.7801\n",
      "Epoch 49/50\n",
      "96/96 [==============================] - 47s 492ms/step - loss: 0.6200 - accuracy: 0.7868 - val_loss: 0.6486 - val_accuracy: 0.7742\n",
      "Epoch 50/50\n",
      "96/96 [==============================] - 58s 603ms/step - loss: 0.5918 - accuracy: 0.7960 - val_loss: 0.6314 - val_accuracy: 0.7801\n"
     ]
    },
    {
     "data": {
      "text/plain": [
       "<keras.src.callbacks.History at 0x7fa1e410a850>"
      ]
     },
     "execution_count": 7,
     "metadata": {},
     "output_type": "execute_result"
    }
   ],
   "source": [
    "model = make_model()\n",
    "\n",
    "checkpoint = keras.callbacks.ModelCheckpoint(\n",
    "    'Data_Augmentation_{epoch:02d}_{val_accuracy:.3f}.h5',\n",
    "    save_best_only = True,\n",
    "    monitor = 'val_accuracy',\n",
    "    mode = 'max'\n",
    ")\n",
    "\n",
    "model.fit(train_ds, epochs=50, validation_data=val_ds, callbacks=[checkpoint])"
   ]
  },
  {
   "cell_type": "markdown",
   "metadata": {},
   "source": [
    "# Training a bigger model"
   ]
  },
  {
   "cell_type": "code",
   "execution_count": 3,
   "metadata": {},
   "outputs": [
    {
     "name": "stdout",
     "output_type": "stream",
     "text": [
      "Found 3068 images belonging to 10 classes.\n",
      "Found 341 images belonging to 10 classes.\n"
     ]
    }
   ],
   "source": [
    "# Create image generator for train data and also augment the images\n",
    "train_gen = ImageDataGenerator(preprocessing_function=preprocess_input,\n",
    "                               rotation_range=30,\n",
    "                               width_shift_range=10.0,\n",
    "                               height_shift_range=10.0,\n",
    "                               shear_range=10,\n",
    "                               zoom_range=0.1,\n",
    "                               vertical_flip=True)\n",
    "\n",
    "train_ds = train_gen.flow_from_directory(directory='clothing-dataset-small/train', target_size=(299,299), batch_size=32)\n",
    "\n",
    "val_gen = ImageDataGenerator(preprocessing_function=preprocess_input)\n",
    "\n",
    "val_ds = val_gen.flow_from_directory('clothing-dataset-small/validation/', target_size=(299, 299), batch_size=32)"
   ]
  },
  {
   "cell_type": "code",
   "execution_count": 4,
   "metadata": {},
   "outputs": [
    {
     "name": "stderr",
     "output_type": "stream",
     "text": [
      "2024-03-10 15:45:25.403982: I tensorflow/compiler/xla/stream_executor/cuda/cuda_gpu_executor.cc:880] could not open file to read NUMA node: /sys/bus/pci/devices/0000:01:00.0/numa_node\n",
      "Your kernel may have been built without NUMA support.\n",
      "2024-03-10 15:45:25.709628: I tensorflow/compiler/xla/stream_executor/cuda/cuda_gpu_executor.cc:880] could not open file to read NUMA node: /sys/bus/pci/devices/0000:01:00.0/numa_node\n",
      "Your kernel may have been built without NUMA support.\n",
      "2024-03-10 15:45:25.709753: I tensorflow/compiler/xla/stream_executor/cuda/cuda_gpu_executor.cc:880] could not open file to read NUMA node: /sys/bus/pci/devices/0000:01:00.0/numa_node\n",
      "Your kernel may have been built without NUMA support.\n",
      "2024-03-10 15:45:25.737460: I tensorflow/compiler/xla/stream_executor/cuda/cuda_gpu_executor.cc:880] could not open file to read NUMA node: /sys/bus/pci/devices/0000:01:00.0/numa_node\n",
      "Your kernel may have been built without NUMA support.\n",
      "2024-03-10 15:45:25.737570: I tensorflow/compiler/xla/stream_executor/cuda/cuda_gpu_executor.cc:880] could not open file to read NUMA node: /sys/bus/pci/devices/0000:01:00.0/numa_node\n",
      "Your kernel may have been built without NUMA support.\n",
      "2024-03-10 15:45:25.737629: I tensorflow/compiler/xla/stream_executor/cuda/cuda_gpu_executor.cc:880] could not open file to read NUMA node: /sys/bus/pci/devices/0000:01:00.0/numa_node\n",
      "Your kernel may have been built without NUMA support.\n",
      "2024-03-10 15:45:26.299673: I tensorflow/compiler/xla/stream_executor/cuda/cuda_gpu_executor.cc:880] could not open file to read NUMA node: /sys/bus/pci/devices/0000:01:00.0/numa_node\n",
      "Your kernel may have been built without NUMA support.\n",
      "2024-03-10 15:45:26.299792: I tensorflow/compiler/xla/stream_executor/cuda/cuda_gpu_executor.cc:880] could not open file to read NUMA node: /sys/bus/pci/devices/0000:01:00.0/numa_node\n",
      "Your kernel may have been built without NUMA support.\n",
      "2024-03-10 15:45:26.299810: I tensorflow/core/common_runtime/gpu/gpu_device.cc:1977] Could not identify NUMA node of platform GPU id 0, defaulting to 0.  Your kernel may not have been built with NUMA support.\n",
      "2024-03-10 15:45:26.299887: I tensorflow/compiler/xla/stream_executor/cuda/cuda_gpu_executor.cc:880] could not open file to read NUMA node: /sys/bus/pci/devices/0000:01:00.0/numa_node\n",
      "Your kernel may have been built without NUMA support.\n",
      "2024-03-10 15:45:26.299926: I tensorflow/core/common_runtime/gpu/gpu_device.cc:1886] Created device /job:localhost/replica:0/task:0/device:GPU:0 with 2242 MB memory:  -> device: 0, name: NVIDIA GeForce GTX 1650, pci bus id: 0000:01:00.0, compute capability: 7.5\n",
      "2024-03-10 15:45:30.462662: W tensorflow/tsl/framework/cpu_allocator_impl.cc:83] Allocation of 12582912 exceeds 10% of free system memory.\n"
     ]
    }
   ],
   "source": [
    "base_model = Xception(weights='imagenet', include_top=False, input_shape=(299, 299, 3))\n",
    "\n",
    "base_model.trainable = False"
   ]
  },
  {
   "cell_type": "code",
   "execution_count": 5,
   "metadata": {},
   "outputs": [],
   "source": [
    "def make_model(learning_rate=0.001, size_inner=100, droprate=0.4):\n",
    "\n",
    "  inputs = keras.Input(shape=(299, 299, 3))\n",
    "\n",
    "  base = base_model(inputs)\n",
    "\n",
    "  vectors = keras.layers.GlobalAveragePooling2D()(base)\n",
    "\n",
    "  inner = keras.layers.Dense(size_inner, activation='relu')(vectors)\n",
    "\n",
    "  drop = keras.layers.Dropout(droprate)(inner)\n",
    "\n",
    "  outputs = keras.layers.Dense(10)(drop)\n",
    "\n",
    "  model = keras.Model(inputs, outputs)\n",
    "\n",
    "  #################################################\n",
    "\n",
    "  optimizer = keras.optimizers.Adam(learning_rate=learning_rate)\n",
    "\n",
    "  loss = keras.losses.CategoricalCrossentropy(from_logits=True)\n",
    "\n",
    "  model.compile(optimizer=optimizer,\n",
    "                loss=loss,\n",
    "                metrics=['accuracy'])\n",
    "\n",
    "  return model"
   ]
  },
  {
   "cell_type": "code",
   "execution_count": 6,
   "metadata": {},
   "outputs": [
    {
     "name": "stderr",
     "output_type": "stream",
     "text": [
      "2024-03-10 15:45:47.822958: W tensorflow/tsl/framework/cpu_allocator_impl.cc:83] Allocation of 34329984 exceeds 10% of free system memory.\n"
     ]
    },
    {
     "name": "stdout",
     "output_type": "stream",
     "text": [
      "Epoch 1/30\n"
     ]
    },
    {
     "name": "stderr",
     "output_type": "stream",
     "text": [
      "2024-03-10 15:46:02.093579: W tensorflow/tsl/framework/cpu_allocator_impl.cc:83] Allocation of 34329984 exceeds 10% of free system memory.\n",
      "2024-03-10 15:46:02.355501: I tensorflow/compiler/xla/stream_executor/cuda/cuda_dnn.cc:442] Loaded cuDNN version 8700\n",
      "2024-03-10 15:46:03.585419: I tensorflow/tsl/platform/default/subprocess.cc:304] Start cannot spawn child process: No such file or directory\n",
      "2024-03-10 15:46:03.636535: W tensorflow/tsl/framework/cpu_allocator_impl.cc:83] Allocation of 34329984 exceeds 10% of free system memory.\n",
      "2024-03-10 15:46:04.865006: W tensorflow/tsl/framework/bfc_allocator.cc:296] Allocator (GPU_0_bfc) ran out of memory trying to allocate 1.53GiB with freed_by_count=0. The caller indicates that this is not a failure, but this may mean that there could be performance gains if more memory were available.\n",
      "2024-03-10 15:46:04.953044: W tensorflow/tsl/framework/cpu_allocator_impl.cc:83] Allocation of 34329984 exceeds 10% of free system memory.\n",
      "2024-03-10 15:46:05.308413: W tensorflow/tsl/framework/bfc_allocator.cc:296] Allocator (GPU_0_bfc) ran out of memory trying to allocate 5.05GiB with freed_by_count=0. The caller indicates that this is not a failure, but this may mean that there could be performance gains if more memory were available.\n",
      "2024-03-10 15:46:06.093792: I tensorflow/tsl/platform/default/subprocess.cc:304] Start cannot spawn child process: No such file or directory\n",
      "2024-03-10 15:46:06.549325: W tensorflow/tsl/framework/bfc_allocator.cc:296] Allocator (GPU_0_bfc) ran out of memory trying to allocate 4.59GiB with freed_by_count=0. The caller indicates that this is not a failure, but this may mean that there could be performance gains if more memory were available.\n",
      "2024-03-10 15:46:07.344999: W tensorflow/tsl/framework/bfc_allocator.cc:296] Allocator (GPU_0_bfc) ran out of memory trying to allocate 6.14GiB with freed_by_count=0. The caller indicates that this is not a failure, but this may mean that there could be performance gains if more memory were available.\n",
      "2024-03-10 15:46:08.225680: W tensorflow/tsl/framework/bfc_allocator.cc:296] Allocator (GPU_0_bfc) ran out of memory trying to allocate 4.50GiB with freed_by_count=0. The caller indicates that this is not a failure, but this may mean that there could be performance gains if more memory were available.\n",
      "2024-03-10 15:46:08.784510: W tensorflow/tsl/framework/bfc_allocator.cc:296] Allocator (GPU_0_bfc) ran out of memory trying to allocate 6.25GiB with freed_by_count=0. The caller indicates that this is not a failure, but this may mean that there could be performance gains if more memory were available.\n",
      "2024-03-10 15:46:08.947627: W tensorflow/tsl/framework/bfc_allocator.cc:296] Allocator (GPU_0_bfc) ran out of memory trying to allocate 3.47GiB with freed_by_count=0. The caller indicates that this is not a failure, but this may mean that there could be performance gains if more memory were available.\n",
      "2024-03-10 15:46:09.232993: W tensorflow/tsl/framework/bfc_allocator.cc:296] Allocator (GPU_0_bfc) ran out of memory trying to allocate 6.88GiB with freed_by_count=0. The caller indicates that this is not a failure, but this may mean that there could be performance gains if more memory were available.\n",
      "2024-03-10 15:46:10.397927: I tensorflow/compiler/xla/service/service.cc:168] XLA service 0x7fc09403b500 initialized for platform CUDA (this does not guarantee that XLA will be used). Devices:\n",
      "2024-03-10 15:46:10.397976: I tensorflow/compiler/xla/service/service.cc:176]   StreamExecutor device (0): NVIDIA GeForce GTX 1650, Compute Capability 7.5\n",
      "2024-03-10 15:46:10.427111: I tensorflow/compiler/mlir/tensorflow/utils/dump_mlir_util.cc:269] disabling MLIR crash reproducer, set env var `MLIR_CRASH_REPRODUCER_DIRECTORY` to enable.\n",
      "2024-03-10 15:46:10.632970: I ./tensorflow/compiler/jit/device_compiler.h:186] Compiled cluster using XLA!  This line is logged at most once for the lifetime of the process.\n"
     ]
    },
    {
     "name": "stdout",
     "output_type": "stream",
     "text": [
      "56/96 [================>.............] - ETA: 41s - loss: 1.5125 - accuracy: 0.4933"
     ]
    },
    {
     "name": "stderr",
     "output_type": "stream",
     "text": [
      "2024-03-10 15:47:09.695785: W tensorflow/tsl/framework/bfc_allocator.cc:296] Allocator (GPU_0_bfc) ran out of memory trying to allocate 4.93GiB with freed_by_count=0. The caller indicates that this is not a failure, but this may mean that there could be performance gains if more memory were available.\n",
      "2024-03-10 15:47:10.400923: W tensorflow/tsl/framework/bfc_allocator.cc:296] Allocator (GPU_0_bfc) ran out of memory trying to allocate 4.52GiB with freed_by_count=0. The caller indicates that this is not a failure, but this may mean that there could be performance gains if more memory were available.\n"
     ]
    },
    {
     "name": "stdout",
     "output_type": "stream",
     "text": [
      "96/96 [==============================] - ETA: 0s - loss: 1.3505 - accuracy: 0.5525"
     ]
    },
    {
     "name": "stderr",
     "output_type": "stream",
     "text": [
      "/home/sreeman/anaconda3/envs/tensorflow/lib/python3.11/site-packages/keras/src/engine/training.py:3079: UserWarning: You are saving your model as an HDF5 file via `model.save()`. This file format is considered legacy. We recommend using instead the native Keras format, e.g. `model.save('my_model.keras')`.\n",
      "  saving_api.save_model(\n"
     ]
    },
    {
     "name": "stdout",
     "output_type": "stream",
     "text": [
      "96/96 [==============================] - 129s 1s/step - loss: 1.3505 - accuracy: 0.5525 - val_loss: 0.7013 - val_accuracy: 0.7830\n",
      "Epoch 2/30\n",
      "96/96 [==============================] - 80s 826ms/step - loss: 0.9370 - accuracy: 0.6884 - val_loss: 0.5844 - val_accuracy: 0.8270\n",
      "Epoch 3/30\n",
      "96/96 [==============================] - 77s 796ms/step - loss: 0.7975 - accuracy: 0.7269 - val_loss: 0.5048 - val_accuracy: 0.8387\n",
      "Epoch 4/30\n",
      "96/96 [==============================] - 85s 874ms/step - loss: 0.7369 - accuracy: 0.7500 - val_loss: 0.4606 - val_accuracy: 0.8446\n",
      "Epoch 5/30\n",
      "96/96 [==============================] - 78s 805ms/step - loss: 0.7006 - accuracy: 0.7539 - val_loss: 0.4584 - val_accuracy: 0.8563\n",
      "Epoch 6/30\n",
      "96/96 [==============================] - 80s 826ms/step - loss: 0.6569 - accuracy: 0.7823 - val_loss: 0.4394 - val_accuracy: 0.8475\n",
      "Epoch 7/30\n",
      "96/96 [==============================] - 82s 846ms/step - loss: 0.6065 - accuracy: 0.7927 - val_loss: 0.4378 - val_accuracy: 0.8534\n",
      "Epoch 8/30\n",
      "96/96 [==============================] - 81s 841ms/step - loss: 0.5912 - accuracy: 0.7947 - val_loss: 0.4309 - val_accuracy: 0.8416\n",
      "Epoch 9/30\n",
      "96/96 [==============================] - 80s 832ms/step - loss: 0.5634 - accuracy: 0.8051 - val_loss: 0.4289 - val_accuracy: 0.8475\n",
      "Epoch 10/30\n",
      "96/96 [==============================] - 79s 820ms/step - loss: 0.5680 - accuracy: 0.7966 - val_loss: 0.4450 - val_accuracy: 0.8504\n",
      "Epoch 11/30\n",
      "96/96 [==============================] - 80s 831ms/step - loss: 0.5497 - accuracy: 0.8093 - val_loss: 0.4204 - val_accuracy: 0.8446\n",
      "Epoch 12/30\n",
      "96/96 [==============================] - 81s 844ms/step - loss: 0.5530 - accuracy: 0.8074 - val_loss: 0.4503 - val_accuracy: 0.8328\n",
      "Epoch 13/30\n",
      "96/96 [==============================] - 75s 780ms/step - loss: 0.5211 - accuracy: 0.8181 - val_loss: 0.4384 - val_accuracy: 0.8387\n",
      "Epoch 14/30\n",
      "96/96 [==============================] - 79s 817ms/step - loss: 0.5216 - accuracy: 0.8214 - val_loss: 0.4232 - val_accuracy: 0.8416\n",
      "Epoch 15/30\n",
      "96/96 [==============================] - 74s 767ms/step - loss: 0.4961 - accuracy: 0.8325 - val_loss: 0.4190 - val_accuracy: 0.8387\n",
      "Epoch 16/30\n",
      "96/96 [==============================] - 78s 805ms/step - loss: 0.4728 - accuracy: 0.8409 - val_loss: 0.4212 - val_accuracy: 0.8475\n",
      "Epoch 17/30\n",
      "96/96 [==============================] - 81s 838ms/step - loss: 0.4787 - accuracy: 0.8338 - val_loss: 0.3901 - val_accuracy: 0.8563\n",
      "Epoch 18/30\n",
      "96/96 [==============================] - 83s 856ms/step - loss: 0.4494 - accuracy: 0.8455 - val_loss: 0.4000 - val_accuracy: 0.8534\n",
      "Epoch 19/30\n",
      "96/96 [==============================] - 80s 825ms/step - loss: 0.4635 - accuracy: 0.8383 - val_loss: 0.4023 - val_accuracy: 0.8534\n",
      "Epoch 20/30\n",
      "96/96 [==============================] - 79s 823ms/step - loss: 0.4616 - accuracy: 0.8419 - val_loss: 0.4189 - val_accuracy: 0.8592\n",
      "Epoch 21/30\n",
      "96/96 [==============================] - 82s 855ms/step - loss: 0.4413 - accuracy: 0.8439 - val_loss: 0.4317 - val_accuracy: 0.8446\n",
      "Epoch 22/30\n",
      "96/96 [==============================] - 81s 839ms/step - loss: 0.4294 - accuracy: 0.8478 - val_loss: 0.4040 - val_accuracy: 0.8504\n",
      "Epoch 23/30\n",
      "96/96 [==============================] - 81s 839ms/step - loss: 0.4152 - accuracy: 0.8559 - val_loss: 0.4256 - val_accuracy: 0.8358\n",
      "Epoch 24/30\n",
      "96/96 [==============================] - 81s 844ms/step - loss: 0.4121 - accuracy: 0.8576 - val_loss: 0.4238 - val_accuracy: 0.8504\n",
      "Epoch 25/30\n",
      "96/96 [==============================] - 79s 812ms/step - loss: 0.4302 - accuracy: 0.8413 - val_loss: 0.4121 - val_accuracy: 0.8592\n",
      "Epoch 26/30\n",
      "96/96 [==============================] - 77s 796ms/step - loss: 0.4047 - accuracy: 0.8638 - val_loss: 0.4035 - val_accuracy: 0.8534\n",
      "Epoch 27/30\n",
      "96/96 [==============================] - 80s 825ms/step - loss: 0.3898 - accuracy: 0.8621 - val_loss: 0.4099 - val_accuracy: 0.8563\n",
      "Epoch 28/30\n",
      "96/96 [==============================] - 82s 850ms/step - loss: 0.3693 - accuracy: 0.8670 - val_loss: 0.4331 - val_accuracy: 0.8622\n",
      "Epoch 29/30\n",
      "96/96 [==============================] - 77s 797ms/step - loss: 0.3895 - accuracy: 0.8628 - val_loss: 0.4310 - val_accuracy: 0.8680\n",
      "Epoch 30/30\n",
      "96/96 [==============================] - 81s 840ms/step - loss: 0.3702 - accuracy: 0.8696 - val_loss: 0.4123 - val_accuracy: 0.8739\n"
     ]
    }
   ],
   "source": [
    "model = make_model()\n",
    "\n",
    "checkpoint = keras.callbacks.ModelCheckpoint(\n",
    "    'Big_Model_{epoch:02d}__{val_accuracy:.3f}.h5',\n",
    "    save_best_only = True,\n",
    "    monitor = 'val_accuracy',\n",
    "    mode = 'max'\n",
    ")\n",
    "\n",
    "history = model.fit(train_ds, epochs=30, validation_data=val_ds, callbacks=[checkpoint])"
   ]
  }
 ],
 "metadata": {
  "kernelspec": {
   "display_name": "tensorflow",
   "language": "python",
   "name": "python3"
  },
  "language_info": {
   "codemirror_mode": {
    "name": "ipython",
    "version": 3
   },
   "file_extension": ".py",
   "mimetype": "text/x-python",
   "name": "python",
   "nbconvert_exporter": "python",
   "pygments_lexer": "ipython3",
   "version": "3.11.5"
  }
 },
 "nbformat": 4,
 "nbformat_minor": 2
}
